{
 "cells": [
  {
   "cell_type": "code",
   "execution_count": 1,
   "id": "defbc2de",
   "metadata": {},
   "outputs": [],
   "source": [
    "from gurobipy import *"
   ]
  },
  {
   "cell_type": "markdown",
   "id": "899bfed6",
   "metadata": {},
   "source": [
    "###  Planificación de la producción:\n",
    "En este caso se desea determinar la cantidad de los diferentes productos de la empresa que se han de producir considerando los recursos disponibles, las características tecnológicas existentes y la situación del mercado. El criterio que orienta la selección de altemativas está generalmente asociado a minimizar los costos de producción o a maximizar los ingresos o los beneficios obtenidos de la explotación.\n"
   ]
  },
  {
   "cell_type": "markdown",
   "id": "9040fd74",
   "metadata": {},
   "source": [
    "### Ejemplo 1: Producción de puertas y ventanas\n",
    "La empresa ABRAX Lida. fabrica puertas y ventanas de madera. Existen dos modelos de puertas: puertas y ventanas: dobles y simples. El insumo más importante es la madera. El proceso de corte de las partes se realiza en dos sierras eléctricas de precisión y el bamizado lo efectúa personal experimentado. Las cantidades de madera y los tiempos de corte y barnizado que requiere cada producto se muestran en la tabla 1."
   ]
  },
  {
   "cell_type": "markdown",
   "id": "1da4e99a",
   "metadata": {},
   "source": [
    "### Tabla 1\n",
    "| Producto | Madera ($m^2$) | Corte (horas/maquina)| Barnizado (horas/hombre) |\n",
    "| ---- | ---- | ---- | ---- |\n",
    "| Puertas Dobles | 4.0 | 1.5 | 2.0 |\n",
    "| Puertas Simples | 2.5 | 1.0 | 1.2 |\n",
    "| Ventanas Dobles | 3.0 | 2.0 | 1.5 |\n",
    "| Ventanas Simples | 1.8 | 0.8 | 0.8 |"
   ]
  },
  {
   "cell_type": "markdown",
   "id": "c1b513cf",
   "metadata": {},
   "source": [
    "Los proveedores de madera pueden entregar hasta 800 $m^2$ en un mes. Además se pueden utilizar hasta 400 horas de sierra para el proceso de corte y 300 horas-hombre para el bamizado. La empresa está comprometida con una constructora para entregar 200 puertas simples y 120 ventanas dobles en el mes. Los precios de venta unitarios y costos unitarios de producción, en miles de pesos (MS), se muestran en la tabla 2. Se desea determinar un plan de producción para el mes que maximice el beneficio total y cumpla con los comrpomisos de entrega, suponiendo que todo lo que se produce se vende."
   ]
  },
  {
   "cell_type": "markdown",
   "id": "635fc21d",
   "metadata": {},
   "source": [
    "### Tabla 2\n",
    "| Producto | Precio (M\\$) | Costo unitario (M\\$)|\n",
    "| ---- | ---- | ---- | \n",
    "| Puertas Dobles | 120 | 80 | \n",
    "| Puertas Simples | 80 | 50 | \n",
    "| Ventanas Dobles | 100 | 75 | \n",
    "| Ventanas Simples | 60 | 30 | "
   ]
  },
  {
   "cell_type": "code",
   "execution_count": 2,
   "id": "1c9b18d7",
   "metadata": {},
   "outputs": [
    {
     "name": "stdout",
     "output_type": "stream",
     "text": [
      "Restricted license - for non-production use only - expires 2024-10-28\n"
     ]
    }
   ],
   "source": [
    "#Initialize Model\n",
    "model = Model(\"Model 1\")"
   ]
  },
  {
   "cell_type": "code",
   "execution_count": 3,
   "id": "5a2b8707",
   "metadata": {},
   "outputs": [],
   "source": [
    "#Decition Variables\n",
    "#La decision proviene la cantidad de producción optima para los tipos de proudctos en un periodo de tiempo considerado.\n",
    "x1 = model.addVar(vtype = GRB.CONTINUOUS, name ='x1')\n",
    "x2 = model.addVar(vtype = GRB.CONTINUOUS, name ='x2')\n",
    "x3 = model.addVar(vtype = GRB.CONTINUOUS, name ='x3')\n",
    "x4 = model.addVar(vtype = GRB.CONTINUOUS, name ='x4')"
   ]
  },
  {
   "cell_type": "code",
   "execution_count": 4,
   "id": "dfc5aa46",
   "metadata": {},
   "outputs": [],
   "source": [
    "#Objective Function\n",
    "model.setObjective(40*x1+30*x2+25*x3+30*x4,GRB.MAXIMIZE)"
   ]
  },
  {
   "cell_type": "code",
   "execution_count": 5,
   "id": "7cd5a57b",
   "metadata": {},
   "outputs": [
    {
     "data": {
      "text/plain": [
       "<gurobi.Constr *Awaiting Model Update*>"
      ]
     },
     "execution_count": 5,
     "metadata": {},
     "output_type": "execute_result"
    }
   ],
   "source": [
    "#Restriction\n",
    "model.addConstr(4.0*x1+2.5*x2+3.0*x3+1.8*x4<=800) #1. Restriccion cantidad total de madera disponible\n",
    "model.addConstr(1.5*x1+1.0*x2+2.0*x3+0.8*x4<=400) #2. Restriccion cantidad de horas-maquina disponinible\n",
    "model.addConstr(2.0*x1+1.2*x2+1.5*x3+0.8*x4<=300) #3. Restriccion cantidad de horas-hombre disponible\n",
    "model.addConstr(x2>=200)\n",
    "model.addConstr(x3>=120)\n",
    "model.addConstr(x1>=0)\n",
    "model.addConstr(x4>=0)\n"
   ]
  },
  {
   "cell_type": "code",
   "execution_count": 10,
   "id": "eb803257",
   "metadata": {},
   "outputs": [],
   "source": [
    "#Save the problem to a file\n",
    "model.write('Produccion 1.produccion puertas y ventanas.rlp')"
   ]
  },
  {
   "cell_type": "code",
   "execution_count": 7,
   "id": "8547f787",
   "metadata": {},
   "outputs": [
    {
     "name": "stdout",
     "output_type": "stream",
     "text": [
      "Maximize\n",
      "  40.0 x1 + 30.0 x2 + 25.0 x3 + 30.0 x4\n",
      "Subject To\n",
      "  R0: 4.0 x1 + 2.5 x2 + 3.0 x3 + 1.8 x4 <= 800\n",
      "  R1: 1.5 x1 + x2 + 2.0 x3 + 0.8 x4 <= 400\n",
      "  R2: 2.0 x1 + 1.2 x2 + 1.5 x3 + 0.8 x4 <= 300\n",
      "  R3: x2 >= 200\n",
      "  R4: x3 >= 120\n",
      "  R5: x1 >= 0\n",
      "  R6: x2 >= 0\n",
      "  R7: x3 >= 0\n",
      "  R8: x4 >= 0\n"
     ]
    }
   ],
   "source": [
    "#Show the model\n",
    "model.display()"
   ]
  },
  {
   "cell_type": "code",
   "execution_count": 8,
   "id": "3a72dcc1",
   "metadata": {},
   "outputs": [
    {
     "name": "stdout",
     "output_type": "stream",
     "text": [
      "Gurobi Optimizer version 10.0.1 build v10.0.1rc0 (win64)\n",
      "\n",
      "CPU model: Intel(R) Core(TM) i7-10510U CPU @ 1.80GHz, instruction set [SSE2|AVX|AVX2]\n",
      "Thread count: 4 physical cores, 8 logical processors, using up to 8 threads\n",
      "\n",
      "Optimize a model with 9 rows, 4 columns and 18 nonzeros\n",
      "Model fingerprint: 0x1738fef8\n",
      "Coefficient statistics:\n",
      "  Matrix range     [8e-01, 4e+00]\n",
      "  Objective range  [3e+01, 4e+01]\n",
      "  Bounds range     [0e+00, 0e+00]\n",
      "  RHS range        [1e+02, 8e+02]\n",
      "Presolve removed 6 rows and 0 columns\n",
      "Presolve time: 0.01s\n",
      "\n",
      "Solved in 0 iterations and 0.01 seconds (0.00 work units)\n",
      "Infeasible or unbounded model\n"
     ]
    }
   ],
   "source": [
    "#Optimize the model\n",
    "model.optimize()"
   ]
  },
  {
   "cell_type": "markdown",
   "id": "d4afdc3d",
   "metadata": {},
   "source": [
    "### Solución\n",
    "Se puede observar que el problema no tiene solucion. Al realizar un analisis de las restricciones nos damos cuenta que la exigencia de producción de x2 y x3 no son posibles tanto para la restricción 1, restricción 2 y restricción 3. Lo que implica que la empresa nunca debio aceptar este contrato, para solucionarlo debemos aumantar la disponibilidad de madera, horas-maquina y horas-hombre totales o mejorar los procesos de fabricación para que requieran menos de estos materiales para la produción."
   ]
  },
  {
   "cell_type": "code",
   "execution_count": 20,
   "id": "5970f695",
   "metadata": {},
   "outputs": [
    {
     "ename": "AttributeError",
     "evalue": "Unable to retrieve attribute 'ObjVal'",
     "output_type": "error",
     "traceback": [
      "\u001b[1;31m---------------------------------------------------------------------------\u001b[0m",
      "\u001b[1;31mAttributeError\u001b[0m                            Traceback (most recent call last)",
      "Cell \u001b[1;32mIn[20], line 2\u001b[0m\n\u001b[0;32m      1\u001b[0m \u001b[38;5;66;03m#Print the values\u001b[39;00m\n\u001b[1;32m----> 2\u001b[0m \u001b[38;5;28mprint\u001b[39m(\u001b[38;5;124m'\u001b[39m\u001b[38;5;124mObjetive funtion: \u001b[39m\u001b[38;5;124m'\u001b[39m,\u001b[43mmodel\u001b[49m\u001b[38;5;241;43m.\u001b[39;49m\u001b[43mObjVal\u001b[49m,\u001b[38;5;241m2\u001b[39m)\n\u001b[0;32m      3\u001b[0m \u001b[38;5;28;01mfor\u001b[39;00m v \u001b[38;5;129;01min\u001b[39;00m model\u001b[38;5;241m.\u001b[39mgetVars():\n\u001b[0;32m      4\u001b[0m     \u001b[38;5;28mprint\u001b[39m(\u001b[38;5;28mstr\u001b[39m(v\u001b[38;5;241m.\u001b[39mvarName)\u001b[38;5;241m+\u001b[39m\u001b[38;5;124m\"\u001b[39m\u001b[38;5;124m=\u001b[39m\u001b[38;5;124m\"\u001b[39m\u001b[38;5;241m+\u001b[39m\u001b[38;5;28mstr\u001b[39m(\u001b[38;5;28mround\u001b[39m(v\u001b[38;5;241m.\u001b[39mx,\u001b[38;5;241m2\u001b[39m)))\n",
      "File \u001b[1;32msrc\\gurobipy\\model.pxi:354\u001b[0m, in \u001b[0;36mgurobipy.Model.__getattr__\u001b[1;34m()\u001b[0m\n",
      "File \u001b[1;32msrc\\gurobipy\\model.pxi:1914\u001b[0m, in \u001b[0;36mgurobipy.Model.getAttr\u001b[1;34m()\u001b[0m\n",
      "File \u001b[1;32msrc\\gurobipy\\attrutil.pxi:100\u001b[0m, in \u001b[0;36mgurobipy.__getattr\u001b[1;34m()\u001b[0m\n",
      "\u001b[1;31mAttributeError\u001b[0m: Unable to retrieve attribute 'ObjVal'"
     ]
    }
   ],
   "source": [
    "#Print the values\n",
    "print('Objetive funtion: ',str(round(model.ObjVal,2)))\n",
    "for v in model.getVars():\n",
    "    print(str(v.varName)+\"=\"+str(round(v.x,2)))"
   ]
  },
  {
   "cell_type": "code",
   "execution_count": null,
   "id": "c8d727e5",
   "metadata": {},
   "outputs": [],
   "source": []
  }
 ],
 "metadata": {
  "kernelspec": {
   "display_name": "Python 3 (ipykernel)",
   "language": "python",
   "name": "python3"
  },
  "language_info": {
   "codemirror_mode": {
    "name": "ipython",
    "version": 3
   },
   "file_extension": ".py",
   "mimetype": "text/x-python",
   "name": "python",
   "nbconvert_exporter": "python",
   "pygments_lexer": "ipython3",
   "version": "3.10.9"
  }
 },
 "nbformat": 4,
 "nbformat_minor": 5
}
