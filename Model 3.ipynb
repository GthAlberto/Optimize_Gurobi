{
 "cells": [
  {
   "cell_type": "code",
   "execution_count": 1,
   "id": "45573b5b",
   "metadata": {},
   "outputs": [],
   "source": [
    "from gurobipy import *"
   ]
  },
  {
   "cell_type": "code",
   "execution_count": 3,
   "id": "3908f247",
   "metadata": {},
   "outputs": [
    {
     "name": "stdout",
     "output_type": "stream",
     "text": [
      "Gurobi Optimizer version 9.5.2 build v9.5.2rc0 (win64)\n",
      "Thread count: 4 physical cores, 8 logical processors, using up to 8 threads\n",
      "Optimize a model with 3 rows, 5 columns and 10 nonzeros\n",
      "Model fingerprint: 0x16cbc942\n",
      "Coefficient statistics:\n",
      "  Matrix range     [5e-02, 5e+00]\n",
      "  Objective range  [2e+01, 5e+02]\n",
      "  Bounds range     [0e+00, 0e+00]\n",
      "  RHS range        [8e+02, 1e+03]\n",
      "Presolve time: 0.24s\n",
      "Presolved: 3 rows, 5 columns, 10 nonzeros\n",
      "\n",
      "Iteration    Objective       Primal Inf.    Dual Inf.      Time\n",
      "       0    7.7400000e+32   4.487500e+30   7.740000e+02      0s\n",
      "       3    2.4800000e+06   0.000000e+00   0.000000e+00      0s\n",
      "\n",
      "Solved in 3 iterations and 0.33 seconds (0.00 work units)\n",
      "Optimal objective  2.480000000e+06\n"
     ]
    }
   ],
   "source": [
    "# Creo el modelo\n",
    "model = Model('model')\n",
    "\n",
    "# Variables del modelo\n",
    "xt = model.addVar(vtype = GRB.CONTINUOUS, name = 'xt') \n",
    "xa = model.addVar(vtype = GRB.CONTINUOUS, name = 'xa') \n",
    "xg = model.addVar(vtype = GRB.CONTINUOUS, name = 'xg') \n",
    "ca = model.addVar(vtype = GRB.CONTINUOUS, name = 'ca') \n",
    "va = model.addVar(vtype = GRB.CONTINUOUS, name = 'va') \n",
    "\n",
    "# Función objetivo\n",
    "model.setObjective(450*xg+120*xt+22*va+28*xa-28*ca, GRB.MAXIMIZE)\n",
    "\n",
    "# Restricciones del modelo\n",
    "model.addConstr(xt+xa+0.1*xg<=800)\n",
    "model.addConstr(2*xt+3*xa+0.05*xg<=1000)\n",
    "model.addConstr(4*xa+ca-5*xg-va==0)\n",
    "\n",
    "# Optimizo el modelo \n",
    "model.optimize()"
   ]
  },
  {
   "cell_type": "code",
   "execution_count": 5,
   "id": "2397623d",
   "metadata": {},
   "outputs": [
    {
     "data": {
      "text/plain": [
       "2"
      ]
     },
     "execution_count": 5,
     "metadata": {},
     "output_type": "execute_result"
    }
   ],
   "source": [
    " model.status # 2 significa que el modelo tiene optimo, 4 significa que el modelo es irresoluble"
   ]
  },
  {
   "cell_type": "code",
   "execution_count": 12,
   "id": "62bd2790",
   "metadata": {},
   "outputs": [
    {
     "name": "stdout",
     "output_type": "stream",
     "text": [
      "Valor de la función Objetivo: 2480000.0\n",
      "xt: 0.0\n",
      "xa: 0.0\n",
      "xg: 8000.0\n",
      "ca: 40000.0\n",
      "va: 0.0\n"
     ]
    }
   ],
   "source": [
    "print('Valor de la función Objetivo: '+str(model.ObjVal))\n",
    "\n",
    "for v in model.getVars():\n",
    "    print(str(v.varName)+': '+str(v.x))"
   ]
  },
  {
   "cell_type": "code",
   "execution_count": 13,
   "id": "2848b54f",
   "metadata": {},
   "outputs": [
    {
     "data": {
      "text/plain": [
       "'xt'"
      ]
     },
     "execution_count": 13,
     "metadata": {},
     "output_type": "execute_result"
    }
   ],
   "source": [
    "xt.varName"
   ]
  },
  {
   "cell_type": "code",
   "execution_count": 14,
   "id": "ed5af161",
   "metadata": {},
   "outputs": [
    {
     "data": {
      "text/plain": [
       "-2980.0"
      ]
     },
     "execution_count": 14,
     "metadata": {},
     "output_type": "execute_result"
    }
   ],
   "source": [
    "# Costo reducido\n",
    "xt.RC"
   ]
  },
  {
   "cell_type": "code",
   "execution_count": 15,
   "id": "81a95c21",
   "metadata": {},
   "outputs": [
    {
     "name": "stdout",
     "output_type": "stream",
     "text": [
      "xt Costo reducido: -2980.0\n",
      "xa Costo reducido: -2960.0\n",
      "xg Costo reducido: 0.0\n",
      "ca Costo reducido: 0.0\n",
      "va Costo reducido: -6.0\n"
     ]
    }
   ],
   "source": [
    "for v in model.getVars():\n",
    "    print(str(v.varName)+' Costo reducido: '+str(v.RC))"
   ]
  },
  {
   "cell_type": "code",
   "execution_count": 22,
   "id": "7abe2334",
   "metadata": {},
   "outputs": [
    {
     "name": "stdout",
     "output_type": "stream",
     "text": [
      "R0: 0.0\n",
      "R1: 600.0\n",
      "R2: 0.0\n"
     ]
    }
   ],
   "source": [
    "# Holguras\n",
    "for r in model.getConstrs():\n",
    "    print(str(r)[-3:-1]+':Holgura '+str(r.slack))"
   ]
  },
  {
   "cell_type": "code",
   "execution_count": 25,
   "id": "1d49f5a2",
   "metadata": {},
   "outputs": [
    {
     "name": "stdout",
     "output_type": "stream",
     "text": [
      "R0:Precio Dual 3100.0\n",
      "R1:Precio Dual 0.0\n",
      "R2:Precio Dual -28.0\n"
     ]
    }
   ],
   "source": [
    "# Precios duales\n",
    "for r in model.getConstrs():\n",
    "    print(str(r)[-3:-1]+':Precio Dual '+str(r.pi))"
   ]
  },
  {
   "cell_type": "code",
   "execution_count": 30,
   "id": "71d1ff8e",
   "metadata": {},
   "outputs": [
    {
     "name": "stdout",
     "output_type": "stream",
     "text": [
      "xt Sensibilidad inferior: -inf |Sensibilidad superior: 3100.0\n",
      "xa Sensibilidad inferior: -inf |Sensibilidad superior: 2988.0\n",
      "xg Sensibilidad inferior: 154.0 |Sensibilidad superior: inf\n",
      "ca Sensibilidad inferior: -82.81481481481481 |Sensibilidad superior: -22.0\n",
      "va Sensibilidad inferior: -inf |Sensibilidad superior: 28.0\n"
     ]
    }
   ],
   "source": [
    "# Analisis de sensibilidad\n",
    "\n",
    "# Sensibiidad de los coeficientes de la función objetivo:\n",
    "for v in model.getVars():\n",
    "    print(str(v.varName)+' Sensibilidad inferior: '+str(v.SAObjLow)+' |Sensibilidad superior: '+str(v.SAObjUp))\n",
    "\n"
   ]
  },
  {
   "cell_type": "code",
   "execution_count": 35,
   "id": "b4d15ca0",
   "metadata": {},
   "outputs": [
    {
     "name": "stdout",
     "output_type": "stream",
     "text": [
      "R0:la derecho 800.0 intervalos: [0.0 - 2000.0]\n",
      "R1:la derecho 1000.0 intervalos: [400.0 - inf]\n",
      "R2:la derecho 0.0 intervalos: [-40000.0 - inf]\n"
     ]
    }
   ],
   "source": [
    "# Sebsibilidad del lado derecho (restricciones)\n",
    "for r in model.getConstrs():\n",
    "    print(str(r)[-3:-1]+':la derecho '+str(r.RHS)+' intervalos: ['+str(r.SARHSLow)+' - '+str(r.SARHSUp)+']')"
   ]
  },
  {
   "cell_type": "code",
   "execution_count": 37,
   "id": "063c98f9",
   "metadata": {},
   "outputs": [
    {
     "name": "stdout",
     "output_type": "stream",
     "text": [
      "*********************************\n"
     ]
    }
   ],
   "source": [
    "# Reporte de sensibilidad (todo los codigos juntos)\n",
    "print(\"*********************************\")"
   ]
  },
  {
   "cell_type": "code",
   "execution_count": null,
   "id": "eb113645",
   "metadata": {},
   "outputs": [],
   "source": []
  }
 ],
 "metadata": {
  "kernelspec": {
   "display_name": "Python 3",
   "language": "python",
   "name": "python3"
  },
  "language_info": {
   "codemirror_mode": {
    "name": "ipython",
    "version": 3
   },
   "file_extension": ".py",
   "mimetype": "text/x-python",
   "name": "python",
   "nbconvert_exporter": "python",
   "pygments_lexer": "ipython3",
   "version": "3.8.8"
  }
 },
 "nbformat": 4,
 "nbformat_minor": 5
}
