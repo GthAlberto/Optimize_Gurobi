{
 "cells": [
  {
   "cell_type": "markdown",
   "id": "18ba536f",
   "metadata": {},
   "source": [
    "## Problema\n",
    "\n",
    "El administrador de un plantel cunícola (crianza de conejos) desea determinar la composición de 1.000 kg de alimento que cumpla con los requerimientos nutritivos establecidos para el normal crecimiento de los conejos y que tenga el menor costo posible. En la elaboración del alimento pueden utilizarse los ingredientes cuyas características nutritivas y costo se señalan en la tabla 1.\n",
    "\n",
    "La dieta debe tener las siguientes características:\n",
    "\n",
    "    Proteína: 15%,\n",
    "    Fibra: mínimo 25%,\n",
    "    Hidratos de carbono: mínimo 20% y máximo 40%,\n",
    "    Calorías: mínimo 800/kg y máximo 1.800/kg,\n",
    "    Harina de pescado: máximo 10%.\n"
   ]
  },
  {
   "cell_type": "markdown",
   "id": "f4aab5bf",
   "metadata": {},
   "source": [
    "### Tabla 1\n",
    "\n",
    "| Ingredientes | Proteninas (%) | Fibra (%) | Hidrato de carbono (%) | Calorias (%) | Costo ($/kg) |\n",
    "| ---- | ---- | ---- | ---- | --- | --- |\n",
    "| Hartina de soya | 9 | 12 | 50 | 1000 | 45 |\n",
    "| Harina de pescado | 55 | - | 4 | 1950 | 100 |\n",
    "| Trigo | 7 | 6 | 66 | 1750 | 70 |\n",
    "| Alfalfa | 12 | 25 | 35 | 450 | 45 |\n",
    "| Avena | 8.5 | 11 | 58 | 1700 | 80 |"
   ]
  },
  {
   "cell_type": "code",
   "execution_count": 2,
   "id": "00f49ff4",
   "metadata": {},
   "outputs": [],
   "source": [
    "from gurobipy import *"
   ]
  },
  {
   "cell_type": "code",
   "execution_count": 11,
   "id": "8bfc8b0e",
   "metadata": {
    "collapsed": true
   },
   "outputs": [
    {
     "name": "stdout",
     "output_type": "stream",
     "text": [
      "\n",
      "Modelo queda: \n",
      "Minimize\n",
      "  45.0 Harina de soya + 100.0 Harina de pescado + 70.0 Trigo + 45.0 Alfalfa + 80.0 Avena\n",
      "Subject To\n",
      "R0: -6.0 Harina de soya + 40.0 Harina de pescado + -8.0 Trigo + -3.0 Alfalfa + -6.5\n",
      " Avena = 0\n",
      "  R1: -13.0 Harina de soya + -25.0 Harina de pescado + -19.0 Trigo + -14.0 Avena >= 0\n",
      "R2: 30.0 Harina de soya + -16.0 Harina de pescado + 46.0 Trigo + 15.0 Alfalfa + 38.0\n",
      " Avena >= 0\n",
      "R3: 10.0 Harina de soya + -36.0 Harina de pescado + 26.0 Trigo + -5.0 Alfalfa + 18.0\n",
      " Avena <= 0\n",
      "R4: 200.0 Harina de soya + 1150.0 Harina de pescado + 950.0 Trigo + -350.0 Alfalfa +\n",
      " 900.0 Avena >= 0\n",
      "R5: -800.0 Harina de soya + 150.0 Harina de pescado + -50.0 Trigo + -1350.0 Alfalfa +\n",
      " -100.0 Avena <= 0\n",
      "  R6: Harina de pescado <= 100\n",
      "  R7: Harina de soya + Harina de pescado + Trigo + Alfalfa + Avena = 1000\n",
      "Gurobi Optimizer version 10.0.1 build v10.0.1rc0 (win64)\n",
      "\n",
      "CPU model: Intel(R) Core(TM) i7-10510U CPU @ 1.80GHz, instruction set [SSE2|AVX|AVX2]\n",
      "Thread count: 4 physical cores, 8 logical processors, using up to 8 threads\n",
      "\n",
      "Optimize a model with 8 rows, 5 columns and 35 nonzeros\n",
      "Model fingerprint: 0x2b50f7f0\n",
      "Coefficient statistics:\n",
      "  Matrix range     [1e+00, 1e+03]\n",
      "  Objective range  [5e+01, 1e+02]\n",
      "  Bounds range     [0e+00, 0e+00]\n",
      "  RHS range        [1e+02, 1e+03]\n",
      "Presolve removed 5 rows and 4 columns\n",
      "Presolve time: 0.00s\n",
      "\n",
      "Solved in 0 iterations and 0.00 seconds (0.00 work units)\n",
      "Infeasible model\n",
      "El estado del modelo es: 3 | Si es 2 el modelo tiene solución | Si es 3 el modelo es irresoluble\n",
      "\n"
     ]
    },
    {
     "ename": "AttributeError",
     "evalue": "Unable to retrieve attribute 'ObjVal'",
     "output_type": "error",
     "traceback": [
      "\u001b[1;31m---------------------------------------------------------------------------\u001b[0m",
      "\u001b[1;31mAttributeError\u001b[0m                            Traceback (most recent call last)",
      "Cell \u001b[1;32mIn[11], line 34\u001b[0m\n\u001b[0;32m     32\u001b[0m \u001b[38;5;28mprint\u001b[39m(\u001b[38;5;124m'\u001b[39m\u001b[38;5;124mEl estado del modelo es: \u001b[39m\u001b[38;5;124m'\u001b[39m\u001b[38;5;241m+\u001b[39m\u001b[38;5;28mstr\u001b[39m(model\u001b[38;5;241m.\u001b[39mstatus)\u001b[38;5;241m+\u001b[39m \u001b[38;5;124m'\u001b[39m\u001b[38;5;124m | Si es 2 el modelo tiene solución | Si es 3 el modelo es irresoluble\u001b[39m\u001b[38;5;124m'\u001b[39m)\n\u001b[0;32m     33\u001b[0m \u001b[38;5;28mprint\u001b[39m()\n\u001b[1;32m---> 34\u001b[0m \u001b[38;5;28mprint\u001b[39m(\u001b[38;5;124m'\u001b[39m\u001b[38;5;124mValor de la función Objetivo: \u001b[39m\u001b[38;5;124m'\u001b[39m\u001b[38;5;241m+\u001b[39m\u001b[38;5;28mstr\u001b[39m(\u001b[43mmodel\u001b[49m\u001b[38;5;241;43m.\u001b[39;49m\u001b[43mObjVal\u001b[49m))\n\u001b[0;32m     35\u001b[0m \u001b[38;5;28;01mfor\u001b[39;00m v \u001b[38;5;129;01min\u001b[39;00m model\u001b[38;5;241m.\u001b[39mgetVars():\n\u001b[0;32m     36\u001b[0m     \u001b[38;5;28mprint\u001b[39m(\u001b[38;5;28mstr\u001b[39m(v\u001b[38;5;241m.\u001b[39mvarName)\u001b[38;5;241m+\u001b[39m\u001b[38;5;124m'\u001b[39m\u001b[38;5;124m: \u001b[39m\u001b[38;5;124m'\u001b[39m\u001b[38;5;241m+\u001b[39m\u001b[38;5;28mstr\u001b[39m(v\u001b[38;5;241m.\u001b[39mx))\n",
      "File \u001b[1;32msrc\\gurobipy\\model.pxi:354\u001b[0m, in \u001b[0;36mgurobipy.Model.__getattr__\u001b[1;34m()\u001b[0m\n",
      "File \u001b[1;32msrc\\gurobipy\\model.pxi:1914\u001b[0m, in \u001b[0;36mgurobipy.Model.getAttr\u001b[1;34m()\u001b[0m\n",
      "File \u001b[1;32msrc\\gurobipy\\attrutil.pxi:100\u001b[0m, in \u001b[0;36mgurobipy.__getattr\u001b[1;34m()\u001b[0m\n",
      "\u001b[1;31mAttributeError\u001b[0m: Unable to retrieve attribute 'ObjVal'"
     ]
    }
   ],
   "source": [
    "model = Model('Model 2')\n",
    "\n",
    "# Desition variables\n",
    "# Variables que defienen la cantidad de ingrediente en la mezcla (kg)\n",
    "x1 = model.addVar(vtype = GRB.CONTINUOUS, name = 'Harina de soya')  \n",
    "x2 = model.addVar(vtype = GRB.CONTINUOUS, name = 'Harina de pescado')\n",
    "x3 = model.addVar(vtype = GRB.CONTINUOUS, name = 'Trigo')\n",
    "x4 = model.addVar(vtype = GRB.CONTINUOUS, name = 'Alfalfa')\n",
    "x5 = model.addVar(vtype = GRB.CONTINUOUS, name = 'Avena')\n",
    "\n",
    "# Objetive funtion\n",
    "model.setObjective(x1*45+x2*100+x3*70+x4*45+x5*80, GRB.MINIMIZE)\n",
    "\n",
    "# Restrictions\n",
    "model.addConstr(x1*9+x2*55+x3*7+x4*12+x5*8.5==(x1+x2+x3+x4+x5)*15)\n",
    "model.addConstr(x1*12+x3*6+x4*25+x5*11>=(x1+x2+x3+x4+x5)*25)\n",
    "model.addConstr(x1*50+x2*4+x3*66+x4*35+x5*58>=(x1+x2+x3+x4+x5)*20)\n",
    "model.addConstr(x1*50+x2*4+x3*66+x4*35+x5*58<=(x1+x2+x3+x4+x5)*40)\n",
    "model.addConstr(x1*1000+x2*1950+x3*1750+x4*450+x5*1700>=(x1+x2+x3+x4+x5)*800)\n",
    "model.addConstr(x1*1000+x2*1950+x3*1750+x4*450+x5*1700<=(x1+x2+x3+x4+x5)*1800)\n",
    "model.addConstr(x2<=100)\n",
    "model.addConstr(x1+x2+x3+x4+x5==1000)\n",
    "\n",
    "print()\n",
    "model.write('Produccion 2.Diseno y composicion de alimento de una planta Cunicola.rlp')\n",
    "print('Modelo queda: ')\n",
    "model.display()\n",
    "\n",
    "# Model optimize\n",
    "model.optimize()\n",
    "\n",
    "print('El estado del modelo es: '+str(model.status)+ ' | Si es 2 el modelo tiene solución | Si es 3 el modelo es irresoluble')\n",
    "print()\n",
    "print('Valor de la función Objetivo: '+str(model.ObjVal))\n",
    "for v in model.getVars():\n",
    "    print(str(v.varName)+': '+str(v.x))\n",
    "    \n",
    "\n",
    "\n"
   ]
  },
  {
   "cell_type": "markdown",
   "id": "f25a2c54",
   "metadata": {},
   "source": [
    "#### El modelo no tiene solucion optima."
   ]
  },
  {
   "cell_type": "code",
   "execution_count": null,
   "id": "e755d1b8",
   "metadata": {},
   "outputs": [],
   "source": []
  }
 ],
 "metadata": {
  "kernelspec": {
   "display_name": "Python 3 (ipykernel)",
   "language": "python",
   "name": "python3"
  },
  "language_info": {
   "codemirror_mode": {
    "name": "ipython",
    "version": 3
   },
   "file_extension": ".py",
   "mimetype": "text/x-python",
   "name": "python",
   "nbconvert_exporter": "python",
   "pygments_lexer": "ipython3",
   "version": "3.10.9"
  }
 },
 "nbformat": 4,
 "nbformat_minor": 5
}
